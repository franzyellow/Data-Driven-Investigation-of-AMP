{
 "cells": [
  {
   "cell_type": "code",
   "execution_count": null,
   "id": "f775bd6d-594c-403d-9ad4-2cd28aaf3aea",
   "metadata": {},
   "outputs": [],
   "source": [
    "pip install pdftotext"
   ]
  },
  {
   "cell_type": "code",
   "execution_count": null,
   "id": "89c83912-e803-416a-92e8-f8382b5318a6",
   "metadata": {},
   "outputs": [],
   "source": [
    "import pdftotext"
   ]
  },
  {
   "cell_type": "code",
   "execution_count": null,
   "id": "a4f9d46a-ce79-4ca7-9301-5c3f717ac37b",
   "metadata": {},
   "outputs": [],
   "source": [
    "def p2t_extract_j(file_path):\n",
    "    \n",
    "    with open(file_path,'rb') as f:\n",
    "        pdf = pdftotext.PDF(f)\n",
    "        text = \"\\n\\n\".join(pdf)\n",
    "        \n",
    "    with open(f\"F:/work study/ILLC/S2B1/DDHI/manual download/pdf2text/JSTOR/{file_path.split('/')[-1][6:]}.txt\", 'w', encoding='utf-8') as txt_file:\n",
    "        content_to_write = text\n",
    "        txt_file.write(content_to_write)\n",
    "\n",
    "# Loop over all files in the target directory\n",
    "for file_path in glob.glob(\"F:/work study/ILLC/S2B1/DDHI/manual download/JSTOR/*.pdf\"):\n",
    "    # Use try-except to keep the process going\n",
    "    # and print out the failures\n",
    "    try:\n",
    "        p2t_extract_j(file_path)\n",
    "    except Exception as e:\n",
    "        print(f\"Error processing {file_path}: {e}\")"
   ]
  }
 ],
 "metadata": {
  "kernelspec": {
   "display_name": "Python 3 (ipykernel)",
   "language": "python",
   "name": "python3"
  },
  "language_info": {
   "codemirror_mode": {
    "name": "ipython",
    "version": 3
   },
   "file_extension": ".py",
   "mimetype": "text/x-python",
   "name": "python",
   "nbconvert_exporter": "python",
   "pygments_lexer": "ipython3",
   "version": "3.11.5"
  }
 },
 "nbformat": 4,
 "nbformat_minor": 5
}
