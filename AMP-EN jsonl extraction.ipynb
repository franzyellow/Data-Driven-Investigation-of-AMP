{
 "cells": [
  {
   "cell_type": "code",
   "execution_count": null,
   "id": "e03f18ea-24b3-4f87-aa57-5a7c5ab686ed",
   "metadata": {},
   "outputs": [],
   "source": [
    "pip install jsonlines"
   ]
  },
  {
   "cell_type": "code",
   "execution_count": null,
   "id": "42329dee-6711-4d33-aebe-d4bda7688b92",
   "metadata": {},
   "outputs": [],
   "source": [
    "import jsonlines\n",
    "import re\n",
    "\n",
    "my_jsonl = \"F:/work study/ILLC/S2B1/DDHI/Post-Marx Discussions jsonl/AMP-exact-jsonl.jsonl\""
   ]
  },
  {
   "cell_type": "code",
   "execution_count": null,
   "id": "864941e9-7937-4ac7-93d6-ca13118ab51d",
   "metadata": {},
   "outputs": [],
   "source": [
    "# Get a grasp of the data structure\n",
    "with jsonlines.open(my_jsonl) as f:\n",
    "    iterator = iter(f)\n",
    "    first_entry = next(iterator)\n",
    "    print(list(first_entry.keys()))\n",
    "    print(first_entry['keyphrase'])\n",
    "    key_phrases_string = \", \".join(first_entry['keyphrase'])\n",
    "    print(key_phrases_string)\n",
    "    print(first_entry[\"creator\"])"
   ]
  },
  {
   "cell_type": "code",
   "execution_count": null,
   "id": "2fae7202-197f-48db-b13f-bc86c28beb52",
   "metadata": {},
   "outputs": [],
   "source": [
    "import jsonlines\n",
    "import re\n",
    "\n",
    "my_jsonl = \"F:/work study/ILLC/S2B1/DDHI/Post-Marx Discussions jsonl/AMP-exact-jsonl.jsonl\"\n",
    "\n",
    "# Use this RE function to clean up illegal symbols\n",
    "def clean_filename(filename):\n",
    "    # remove illegal symbols\n",
    "    cleaned_filename = re.sub(r'[\\\\/*?:\"<>|]', '_', filename)\n",
    "    return cleaned_filename\n",
    "\n",
    "with jsonlines.open(my_jsonl) as f:\n",
    "    # Loop over every nested entry of the jsonl file\n",
    "    for entry in f.iter():\n",
    "        # Turn lists into strings so that they can be written to txt files\n",
    "        key_phrases_string = \", \".join(entry['keyphrase'])\n",
    "        full_text_string = \" \".join(entry['fullText'])\n",
    "        # Clean the title\n",
    "        cleaned_title = clean_filename(entry['title'])\n",
    "\n",
    "        # Since not every entry has creator information,\n",
    "        # use this condition to prevent error\n",
    "        if 'creator' in entry:\n",
    "            # Use this if-else condition to prevent filename getting too long because of too many authors,\n",
    "            # and also do the cleaning\n",
    "            if len(entry['creator']) <= 2:\n",
    "                author_string = \",\".join(entry['creator'])\n",
    "                cleaned_author_string = clean_filename(author_string)\n",
    "            else:\n",
    "                author_string = \",\".join(entry['creator'][:2]) + 'et al.'\n",
    "                cleaned_author_string = clean_filename(author_string)\n",
    "                \n",
    "            # The current file naming strategy, title restricted to 49 letters preventing from too long,\n",
    "            # but this would risk the later automated bibliography composition? Better strategies? Confirmation needed.\n",
    "            txt_path = f\"F:/work study/ILLC/S2B1/DDHI/Post-Marx Discussions jsonl/generation/[{cleaned_author_string}]_{cleaned_title[:50]}_{entry['datePublished']}_{entry['docType']}.txt\"\n",
    "        \n",
    "        # For entries without author information, add [author_unknown] to the file name     \n",
    "        else:\n",
    "            txt_path = f\"F:/work study/ILLC/S2B1/DDHI/Post-Marx Discussions jsonl/generation/[author unknown]_{cleaned_title[:50]}_{entry['datePublished']}_{entry['docType']}.txt\"\n",
    "\n",
    "        # Write key phrases and full texts into generated txts\n",
    "        with open(txt_path, 'a', encoding='utf-8') as txt_file:\n",
    "            content_to_write = f\"key phrases: {key_phrases_string}\\n\\n{full_text_string}\\n\"\n",
    "            txt_file.write(content_to_write)"
   ]
  }
 ],
 "metadata": {
  "kernelspec": {
   "display_name": "Python 3 (ipykernel)",
   "language": "python",
   "name": "python3"
  },
  "language_info": {
   "codemirror_mode": {
    "name": "ipython",
    "version": 3
   },
   "file_extension": ".py",
   "mimetype": "text/x-python",
   "name": "python",
   "nbconvert_exporter": "python",
   "pygments_lexer": "ipython3",
   "version": "3.11.5"
  }
 },
 "nbformat": 4,
 "nbformat_minor": 5
}
