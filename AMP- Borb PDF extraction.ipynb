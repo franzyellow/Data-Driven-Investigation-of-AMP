{
 "cells": [
  {
   "cell_type": "code",
   "execution_count": null,
   "id": "713ca74b-85c9-4275-9d45-dca687958547",
   "metadata": {},
   "outputs": [],
   "source": [
    "import typing\n",
    "\n",
    "from borb.pdf import Document\n",
    "from borb.pdf import PDF\n",
    "from borb.toolkit import SimpleTextExtraction\n",
    "\n",
    "import glob\n",
    "import os"
   ]
  },
  {
   "cell_type": "code",
   "execution_count": null,
   "id": "62055568-724e-41b5-a7f5-9937b1d69509",
   "metadata": {},
   "outputs": [],
   "source": [
    "def extract_pdf_j(file_path) -> None:\n",
    "    # read the Document\n",
    "    doc: typing.Optional[Document] = None\n",
    "    l: SimpleTextExtraction = SimpleTextExtraction()\n",
    "    with open(file_path, \"rb\") as in_file_handle:\n",
    "        doc = PDF.loads(in_file_handle, [l])\n",
    "\n",
    "    # check whether we have read a Document\n",
    "    assert doc is not None\n",
    "\n",
    "    # print the text on the first Page\n",
    "    with open(f\"F:/work study/ILLC/S2B1/DDHI/manual download/JSTOR/extract-2/{file_path.split('/')[-1][6:]}.txt\", 'w', encoding='utf-8') as f:\n",
    "        print(l.get_text(), file=f)\n",
    "\n",
    "# Loop over all files in the target directory\n",
    "for file_path in glob.glob(\"F:/work study/ILLC/S2B1/DDHI/manual download/JSTOR/*.pdf\"):\n",
    "    # Use try-except to keep the process going\n",
    "    # and print out the failures\n",
    "    try:\n",
    "        extract_pdf_j(file_path)\n",
    "    except Exception as e:\n",
    "        print(f\"Error processing {file_path}: {e}\")"
   ]
  }
 ],
 "metadata": {
  "kernelspec": {
   "display_name": "Python 3 (ipykernel)",
   "language": "python",
   "name": "python3"
  },
  "language_info": {
   "codemirror_mode": {
    "name": "ipython",
    "version": 3
   },
   "file_extension": ".py",
   "mimetype": "text/x-python",
   "name": "python",
   "nbconvert_exporter": "python",
   "pygments_lexer": "ipython3",
   "version": "3.11.5"
  }
 },
 "nbformat": 4,
 "nbformat_minor": 5
}
